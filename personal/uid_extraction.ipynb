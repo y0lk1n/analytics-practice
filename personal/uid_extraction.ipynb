{
 "cells": [
  {
   "cell_type": "code",
   "execution_count": 1,
   "metadata": {},
   "outputs": [],
   "source": [
    "import pandas as pd"
   ]
  },
  {
   "cell_type": "code",
   "execution_count": 2,
   "metadata": {},
   "outputs": [],
   "source": [
    "path = '/mnt/HC_Volume_18315164/home-jupyter/jupyter-i-sedelkin/practice/data/personal/mirvr_bookings_01_11_2023.xlsx'\n",
    "\n",
    "bookings = pd.read_excel(path)"
   ]
  },
  {
   "cell_type": "code",
   "execution_count": 3,
   "metadata": {},
   "outputs": [],
   "source": [
    "bookings.rename(columns={'Номер записи': 'booking_no', 'Телефон клиента': 'phone'}, inplace = True)"
   ]
  },
  {
   "cell_type": "code",
   "execution_count": 4,
   "metadata": {},
   "outputs": [
    {
     "data": {
      "text/html": [
       "<div>\n",
       "<style scoped>\n",
       "    .dataframe tbody tr th:only-of-type {\n",
       "        vertical-align: middle;\n",
       "    }\n",
       "\n",
       "    .dataframe tbody tr th {\n",
       "        vertical-align: top;\n",
       "    }\n",
       "\n",
       "    .dataframe thead th {\n",
       "        text-align: right;\n",
       "    }\n",
       "</style>\n",
       "<table border=\"1\" class=\"dataframe\">\n",
       "  <thead>\n",
       "    <tr style=\"text-align: right;\">\n",
       "      <th></th>\n",
       "      <th>booking_no</th>\n",
       "      <th>Статус</th>\n",
       "      <th>Время начала</th>\n",
       "      <th>Время окончания</th>\n",
       "      <th>Сумма счета</th>\n",
       "      <th>Оплачено</th>\n",
       "      <th>Услуга</th>\n",
       "      <th>Продолжительность</th>\n",
       "      <th>Сотрудник</th>\n",
       "      <th>Создано</th>\n",
       "      <th>...</th>\n",
       "      <th>Закрыто с OS</th>\n",
       "      <th>User Agent закрывшего</th>\n",
       "      <th>Кампания</th>\n",
       "      <th>Содержание</th>\n",
       "      <th>Канал</th>\n",
       "      <th>Источник</th>\n",
       "      <th>Условие</th>\n",
       "      <th>ClientID</th>\n",
       "      <th>Служебное поле</th>\n",
       "      <th>ID абонемента</th>\n",
       "    </tr>\n",
       "  </thead>\n",
       "  <tbody>\n",
       "    <tr>\n",
       "      <th>426</th>\n",
       "      <td>142801803</td>\n",
       "      <td>Выполнено</td>\n",
       "      <td>18.10.2023 18:00</td>\n",
       "      <td>18.10.2023 19:00</td>\n",
       "      <td>0</td>\n",
       "      <td>0</td>\n",
       "      <td>Игра по абонементу MIR VR, Игра по абонементу ...</td>\n",
       "      <td>120</td>\n",
       "      <td>VR-1</td>\n",
       "      <td>17.10.2023 20:30</td>\n",
       "      <td>...</td>\n",
       "      <td>Windows 10</td>\n",
       "      <td>Mozilla/5.0 (Windows NT 10.0; Win64; x64) Appl...</td>\n",
       "      <td>NaN</td>\n",
       "      <td>NaN</td>\n",
       "      <td>NaN</td>\n",
       "      <td>Widget</td>\n",
       "      <td>NaN</td>\n",
       "      <td>1697562745387344128</td>\n",
       "      <td>NaN</td>\n",
       "      <td>301711</td>\n",
       "    </tr>\n",
       "  </tbody>\n",
       "</table>\n",
       "<p>1 rows × 41 columns</p>\n",
       "</div>"
      ],
      "text/plain": [
       "     booking_no     Статус      Время начала   Время окончания  Сумма счета  \\\n",
       "426   142801803  Выполнено  18.10.2023 18:00  18.10.2023 19:00            0   \n",
       "\n",
       "    Оплачено                                             Услуга  \\\n",
       "426        0  Игра по абонементу MIR VR, Игра по абонементу ...   \n",
       "\n",
       "     Продолжительность Сотрудник           Создано  ... Закрыто с OS  \\\n",
       "426                120      VR-1  17.10.2023 20:30  ...   Windows 10   \n",
       "\n",
       "                                 User Agent закрывшего Кампания Содержание  \\\n",
       "426  Mozilla/5.0 (Windows NT 10.0; Win64; x64) Appl...      NaN        NaN   \n",
       "\n",
       "    Канал  Источник  Условие             ClientID Служебное поле  \\\n",
       "426   NaN    Widget      NaN  1697562745387344128            NaN   \n",
       "\n",
       "     ID абонемента  \n",
       "426         301711  \n",
       "\n",
       "[1 rows x 41 columns]"
      ]
     },
     "execution_count": 4,
     "metadata": {},
     "output_type": "execute_result"
    }
   ],
   "source": [
    "bookings.query('booking_no == 142801803')"
   ]
  },
  {
   "cell_type": "code",
   "execution_count": 5,
   "metadata": {},
   "outputs": [],
   "source": [
    "bookings_number_clientid = bookings[['booking_no', 'ClientID']]"
   ]
  },
  {
   "cell_type": "code",
   "execution_count": 6,
   "metadata": {},
   "outputs": [
    {
     "data": {
      "text/html": [
       "<div>\n",
       "<style scoped>\n",
       "    .dataframe tbody tr th:only-of-type {\n",
       "        vertical-align: middle;\n",
       "    }\n",
       "\n",
       "    .dataframe tbody tr th {\n",
       "        vertical-align: top;\n",
       "    }\n",
       "\n",
       "    .dataframe thead th {\n",
       "        text-align: right;\n",
       "    }\n",
       "</style>\n",
       "<table border=\"1\" class=\"dataframe\">\n",
       "  <thead>\n",
       "    <tr style=\"text-align: right;\">\n",
       "      <th></th>\n",
       "      <th>booking_no</th>\n",
       "      <th>ClientID</th>\n",
       "    </tr>\n",
       "  </thead>\n",
       "  <tbody>\n",
       "    <tr>\n",
       "      <th>0</th>\n",
       "      <td>314015499</td>\n",
       "      <td>cookie</td>\n",
       "    </tr>\n",
       "    <tr>\n",
       "      <th>1</th>\n",
       "      <td>925025815</td>\n",
       "      <td>cookie</td>\n",
       "    </tr>\n",
       "    <tr>\n",
       "      <th>2</th>\n",
       "      <td>224124947</td>\n",
       "      <td>1665409067664737024</td>\n",
       "    </tr>\n",
       "    <tr>\n",
       "      <th>3</th>\n",
       "      <td>925025241</td>\n",
       "      <td>1665409067664737024</td>\n",
       "    </tr>\n",
       "    <tr>\n",
       "      <th>4</th>\n",
       "      <td>224140178</td>\n",
       "      <td>cookie</td>\n",
       "    </tr>\n",
       "    <tr>\n",
       "      <th>...</th>\n",
       "      <td>...</td>\n",
       "      <td>...</td>\n",
       "    </tr>\n",
       "    <tr>\n",
       "      <th>487</th>\n",
       "      <td>97009520</td>\n",
       "      <td>cookie</td>\n",
       "    </tr>\n",
       "    <tr>\n",
       "      <th>488</th>\n",
       "      <td>97044222</td>\n",
       "      <td>cookie</td>\n",
       "    </tr>\n",
       "    <tr>\n",
       "      <th>489</th>\n",
       "      <td>20135903</td>\n",
       "      <td>cookie</td>\n",
       "    </tr>\n",
       "    <tr>\n",
       "      <th>490</th>\n",
       "      <td>9802004</td>\n",
       "      <td>cookie</td>\n",
       "    </tr>\n",
       "    <tr>\n",
       "      <th>491</th>\n",
       "      <td>17350925</td>\n",
       "      <td>cookie</td>\n",
       "    </tr>\n",
       "  </tbody>\n",
       "</table>\n",
       "<p>492 rows × 2 columns</p>\n",
       "</div>"
      ],
      "text/plain": [
       "     booking_no             ClientID\n",
       "0     314015499               cookie\n",
       "1     925025815               cookie\n",
       "2     224124947  1665409067664737024\n",
       "3     925025241  1665409067664737024\n",
       "4     224140178               cookie\n",
       "..          ...                  ...\n",
       "487    97009520               cookie\n",
       "488    97044222               cookie\n",
       "489    20135903               cookie\n",
       "490     9802004               cookie\n",
       "491    17350925               cookie\n",
       "\n",
       "[492 rows x 2 columns]"
      ]
     },
     "execution_count": 6,
     "metadata": {},
     "output_type": "execute_result"
    }
   ],
   "source": [
    "bookings_number_clientid"
   ]
  },
  {
   "cell_type": "code",
   "execution_count": 9,
   "metadata": {},
   "outputs": [],
   "source": [
    "from pathlib import Path  \n",
    "\n",
    "filepath = Path('~/practice/data/personal/full_yuid.csv')  \n",
    "\n",
    "filepath.parent.mkdir(parents=True, exist_ok=True)  \n",
    "\n",
    "bookings_number_clientid.to_csv(filepath, index=False)"
   ]
  },
  {
   "cell_type": "code",
   "execution_count": null,
   "metadata": {},
   "outputs": [],
   "source": []
  },
  {
   "cell_type": "code",
   "execution_count": null,
   "metadata": {},
   "outputs": [],
   "source": []
  }
 ],
 "metadata": {
  "kernelspec": {
   "display_name": "Python 3",
   "language": "python",
   "name": "python3"
  },
  "language_info": {
   "codemirror_mode": {
    "name": "ipython",
    "version": 3
   },
   "file_extension": ".py",
   "mimetype": "text/x-python",
   "name": "python",
   "nbconvert_exporter": "python",
   "pygments_lexer": "ipython3",
   "version": "3.7.3"
  }
 },
 "nbformat": 4,
 "nbformat_minor": 4
}
