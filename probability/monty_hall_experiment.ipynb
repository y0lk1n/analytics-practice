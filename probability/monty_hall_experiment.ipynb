{
 "cells": [
  {
   "cell_type": "code",
   "execution_count": 3,
   "metadata": {},
   "outputs": [
    {
     "name": "stdout",
     "output_type": "stream",
     "text": [
      "0.19977\n",
      "0.40047\n"
     ]
    }
   ],
   "source": [
    "import random\n",
    "\n",
    "\n",
    "def monty_hall_without_change(choices):\n",
    "    # в начале каждой попытки случайно перемешаем массив\n",
    "    random.shuffle(choices)\n",
    "    return choices[random.randrange(len(choices))]\n",
    "\n",
    "\n",
    "def monty_hall_with_change(choices):\n",
    "    # в начале каждой попытки случайно перемешаем массив\n",
    "    random.shuffle(choices)\n",
    "    # первый выбор\n",
    "    first_choice = random.randrange(len(choices))\n",
    "    # ведущий открывает дверь с козлом\n",
    "    for i in range(len(choices)):\n",
    "        if i != first_choice and choices[i] == 'goat':\n",
    "            host_choice = i\n",
    "            break\n",
    "    # делаем второй выбор, меняя первое решение\n",
    "    for i in range(len(choices)):\n",
    "        if i != first_choice and i != host_choice:\n",
    "            return choices[i]\n",
    "\n",
    "\n",
    "# goat - козел, car - автомобиль\n",
    "choices = ['goat', 'goat', 'car', 'goat', 'goat']\n",
    "# просто какое-либо большое число (количество опытов)\n",
    "N = 100000\n",
    "\n",
    "# проверяем вариант с неизменным выбором\n",
    "win_count = 0\n",
    "for _ in range(N):\n",
    "    result = monty_hall_without_change(choices)\n",
    "    if result == 'car':\n",
    "        win_count += 1\n",
    "# вероятность выиграть - частота выигранных опытов\n",
    "print(win_count/N)\n",
    "\n",
    "# проверяем вариант с изменением выбора\n",
    "win_count = 0\n",
    "for _ in range(N):\n",
    "    result = monty_hall_with_change(choices)\n",
    "    if result == 'car':\n",
    "        win_count += 1\n",
    "# вероятность выиграть - частота выигранных опытов\n",
    "print(win_count/N)\n"
   ]
  },
  {
   "cell_type": "code",
   "execution_count": null,
   "metadata": {},
   "outputs": [],
   "source": []
  }
 ],
 "metadata": {
  "kernelspec": {
   "display_name": "Python 3",
   "language": "python",
   "name": "python3"
  },
  "language_info": {
   "codemirror_mode": {
    "name": "ipython",
    "version": 3
   },
   "file_extension": ".py",
   "mimetype": "text/x-python",
   "name": "python",
   "nbconvert_exporter": "python",
   "pygments_lexer": "ipython3",
   "version": "3.7.3"
  }
 },
 "nbformat": 4,
 "nbformat_minor": 4
}
