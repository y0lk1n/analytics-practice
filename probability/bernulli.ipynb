{
 "cells": [
  {
   "cell_type": "code",
   "execution_count": 1,
   "metadata": {},
   "outputs": [],
   "source": [
    "from scipy import special #модуль питона, предназначенный для научных и инженерных расчетов\n",
    "import math"
   ]
  },
  {
   "cell_type": "code",
   "execution_count": 7,
   "metadata": {},
   "outputs": [],
   "source": [
    "?? special.comb"
   ]
  },
  {
   "cell_type": "code",
   "execution_count": 11,
   "metadata": {},
   "outputs": [
    {
     "data": {
      "text/plain": [
       "0.2304"
      ]
     },
     "execution_count": 11,
     "metadata": {},
     "output_type": "execute_result"
    }
   ],
   "source": [
    "prob_1 = 0.4\n",
    "n = 5\n",
    "k = 3\n",
    "combinations = special.comb(n, k)\n",
    "\n",
    "round((math.pow(prob_1, k) * math.pow((1-prob_1), (n-k)) * combinations), 4)"
   ]
  },
  {
   "cell_type": "code",
   "execution_count": 16,
   "metadata": {},
   "outputs": [
    {
     "data": {
      "text/plain": [
       "0.922"
      ]
     },
     "execution_count": 16,
     "metadata": {},
     "output_type": "execute_result"
    }
   ],
   "source": [
    "round(1 - math.pow((1-prob_1), n), 3)"
   ]
  },
  {
   "cell_type": "code",
   "execution_count": 46,
   "metadata": {},
   "outputs": [
    {
     "data": {
      "text/plain": [
       "0.745"
      ]
     },
     "execution_count": 46,
     "metadata": {},
     "output_type": "execute_result"
    }
   ],
   "source": [
    "prob = 0.3\n",
    "n = 8\n",
    "k1 = 1\n",
    "k2 = 2\n",
    "combinations1 = special.comb(n, k1)\n",
    "combinations2 = special.comb(n, k2)\n",
    "\n",
    "probability0 = math.pow(0.7, 8)\n",
    "probability1 = (math.pow(prob, k1) * math.pow((1-prob), (n-k1)) * combinations1)\n",
    "round((1 - probablity1 - probability0), 3)"
   ]
  },
  {
   "cell_type": "code",
   "execution_count": 63,
   "metadata": {},
   "outputs": [
    {
     "data": {
      "text/plain": [
       "0.42"
      ]
     },
     "execution_count": 63,
     "metadata": {},
     "output_type": "execute_result"
    }
   ],
   "source": [
    "prob = 0.4\n",
    "n = 7\n",
    "\n",
    "k0 = 0\n",
    "k1 = 1\n",
    "k2 = 2\n",
    "\n",
    "def get_comb(k):\n",
    "    return special.comb(n, k)\n",
    "\n",
    "probability = math.pow((1 - prob), n) + \\\n",
    "    (math.pow(prob, k1) * math.pow((1-prob), (n-k1)) * get_comb(k1)) + \\\n",
    "    (math.pow(prob, k2) * math.pow((1-prob), (n-k2)) * get_comb(k2))\n",
    "round(probability, 2)"
   ]
  },
  {
   "cell_type": "code",
   "execution_count": 65,
   "metadata": {},
   "outputs": [
    {
     "data": {
      "text/plain": [
       "0.773"
      ]
     },
     "execution_count": 65,
     "metadata": {},
     "output_type": "execute_result"
    }
   ],
   "source": [
    "# В телеателье имеется 7 телевизоров. Для каждого телевизора вероятность того, что в данный момент он включен, \n",
    "# равна 0,5. Найти вероятность того, что в данный момент включены не менее трех телевизоров. \n",
    "# Ответ округлите до тысячных. В качестве десятичного разделителя используйте точку.\n",
    "\n",
    "prob = 0.5\n",
    "n = 7\n",
    "\n",
    "def get_comb(k):\n",
    "    return special.comb(n, k)\n",
    "\n",
    "probability = 1 - \\\n",
    "    math.pow((1 - prob), n) - \\\n",
    "    (math.pow(prob, 1) * math.pow((1-prob), (n-1)) * get_comb(1)) - \\\n",
    "    (math.pow(prob, 2) * math.pow((1-prob), (n-2)) * get_comb(2))\n",
    "\n",
    "round(probability, 3)"
   ]
  },
  {
   "cell_type": "code",
   "execution_count": 68,
   "metadata": {},
   "outputs": [
    {
     "data": {
      "text/plain": [
       "0.47"
      ]
     },
     "execution_count": 68,
     "metadata": {},
     "output_type": "execute_result"
    }
   ],
   "source": [
    "# Пусть вероятность того, что покупателю необходим компьютер с операционной системой Linux, равна 0.25. \n",
    "# Найдите вероятность того, что из шести покупателей по крайней мере двум \n",
    "# необходим компьютер с операционной системой Linux. \n",
    "# Ответ округлите до сотых, в качестве разделителя используйте точку.\n",
    "\n",
    "prob = 0.25\n",
    "n = 6\n",
    "\n",
    "def get_comb(k):\n",
    "    return special.comb(n, k)\n",
    "\n",
    "probability = 1 - \\\n",
    "    math.pow((1 - prob), n) - \\\n",
    "    (math.pow(prob, 1) * math.pow((1-prob), (n-1)) * get_comb(1))\n",
    "\n",
    "round(probability, 2)"
   ]
  },
  {
   "cell_type": "code",
   "execution_count": 5,
   "metadata": {},
   "outputs": [
    {
     "data": {
      "text/plain": [
       "0.93"
      ]
     },
     "execution_count": 5,
     "metadata": {},
     "output_type": "execute_result"
    }
   ],
   "source": [
    "# Для нормальной работы отдела по дата-аналитике необходимо, чтобы в офисе было не менее восьми программистов, \n",
    "# а всего в штате 10 программистов. Вероятность того, что программист заболеет, равна 0.1. \n",
    "# Найдите вероятность нормальной работы отдела по дата-аналитике.\n",
    "# Ответ округлите до сотых, а в качестве разделителя используйте точку.\n",
    "\n",
    "prob = 0.1\n",
    "n = 10\n",
    "\n",
    "def get_comb(k):\n",
    "    return special.comb(n, k)\n",
    "\n",
    "probability = \\\n",
    "    math.pow((1 - prob), n) + \\\n",
    "    (math.pow(prob, 1) * math.pow((1-prob), (n-1)) * get_comb(1)) + \\\n",
    "    (math.pow(prob, 2) * math.pow((1-prob), (n-2)) * get_comb(2))\n",
    "\n",
    "round(probability, 2)"
   ]
  },
  {
   "cell_type": "code",
   "execution_count": 8,
   "metadata": {},
   "outputs": [
    {
     "data": {
      "text/plain": [
       "0.93"
      ]
     },
     "execution_count": 8,
     "metadata": {},
     "output_type": "execute_result"
    }
   ],
   "source": [
    "round((math.pow(9, 10) + math.pow(9, 9)*10 + math.pow(9, 8)*45) / math.pow(10, 10), 2)"
   ]
  },
  {
   "cell_type": "code",
   "execution_count": 9,
   "metadata": {},
   "outputs": [
    {
     "data": {
      "text/plain": [
       "0.228"
      ]
     },
     "execution_count": 9,
     "metadata": {},
     "output_type": "execute_result"
    }
   ],
   "source": [
    "# Среди всех скриптов, которые пишет программист, с 10%-ой вероятностью скрипт будет с ошибкой. \n",
    "# Найдем вероятность того, что среди 30 скриптов два не будут работать.\n",
    "# Ответ округлите до тысячных, в качестве десятичного разделителя используйте точку.\n",
    "\n",
    "\n",
    "round((435 * math.pow(9, 28) / math.pow(10, 30)), 3)"
   ]
  },
  {
   "cell_type": "code",
   "execution_count": 10,
   "metadata": {},
   "outputs": [
    {
     "data": {
      "text/plain": [
       "0.088"
      ]
     },
     "execution_count": 10,
     "metadata": {},
     "output_type": "execute_result"
    }
   ],
   "source": [
    "# В урне 20 шаров: 15 белых и 5 чёрных. Вынули подряд 5 шаров, причём каждый вынутый шар возвращается в урну \n",
    "# и перед извлечением следующего шары в урне тщательно перемешиваются. \n",
    "# Найдите вероятность того, что из пяти вынутых шаров будет 2 белых.\n",
    "# Ответ округлите до тысячных, в качестве десятичного разделителя используйте точку.\n",
    "\n",
    "round((10 * math.pow(15, 2) * math.pow(5, 3) / math.pow(20, 5)), 3)"
   ]
  },
  {
   "cell_type": "code",
   "execution_count": null,
   "metadata": {},
   "outputs": [],
   "source": []
  }
 ],
 "metadata": {
  "kernelspec": {
   "display_name": "Python 3",
   "language": "python",
   "name": "python3"
  },
  "language_info": {
   "codemirror_mode": {
    "name": "ipython",
    "version": 3
   },
   "file_extension": ".py",
   "mimetype": "text/x-python",
   "name": "python",
   "nbconvert_exporter": "python",
   "pygments_lexer": "ipython3",
   "version": "3.7.3"
  }
 },
 "nbformat": 4,
 "nbformat_minor": 4
}
