{
 "cells": [
  {
   "cell_type": "code",
   "execution_count": 9,
   "metadata": {},
   "outputs": [],
   "source": [
    "worker = ['Olya', 'Silyutina', 350000, 3]"
   ]
  },
  {
   "cell_type": "code",
   "execution_count": 17,
   "metadata": {},
   "outputs": [],
   "source": [
    "message = '{} {} is {}'"
   ]
  },
  {
   "cell_type": "code",
   "execution_count": 18,
   "metadata": {},
   "outputs": [
    {
     "name": "stdout",
     "output_type": "stream",
     "text": [
      "Olya Silyutina is middle\n"
     ]
    }
   ],
   "source": [
    "exp = worker[3]\n",
    "\n",
    "if exp < 2:\n",
    "    position = 'junior'\n",
    "elif exp >= 2 and exp <= 5:\n",
    "    position = 'middle'\n",
    "else:\n",
    "    position = 'senior'\n",
    "    \n",
    "print(message.format(worker[0], worker[1], position))"
   ]
  },
  {
   "cell_type": "code",
   "execution_count": 19,
   "metadata": {},
   "outputs": [],
   "source": [
    "values = [12, 134, 10, 47, 100, 20, 50, 160, 210]"
   ]
  },
  {
   "cell_type": "code",
   "execution_count": 21,
   "metadata": {},
   "outputs": [],
   "source": [
    "tens = []\n",
    "for i in values:\n",
    "    if i%10 == 0:\n",
    "       tens.append(i) "
   ]
  },
  {
   "cell_type": "code",
   "execution_count": 22,
   "metadata": {},
   "outputs": [
    {
     "name": "stdout",
     "output_type": "stream",
     "text": [
      "[10, 100, 20, 50, 160, 210]\n"
     ]
    }
   ],
   "source": [
    "print(tens)"
   ]
  },
  {
   "cell_type": "code",
   "execution_count": 25,
   "metadata": {},
   "outputs": [],
   "source": [
    "workers = [['Ivan', 'Ivanov', 100000, 1], ['Petr', 'Petrov', 150000, 2], ['Sidor', 'Sidorov', 200000, 10]]"
   ]
  },
  {
   "cell_type": "code",
   "execution_count": 26,
   "metadata": {},
   "outputs": [
    {
     "name": "stdout",
     "output_type": "stream",
     "text": [
      "Ivan Ivanov is junior\n",
      "Petr Petrov is middle\n",
      "Sidor Sidorov is senior\n"
     ]
    }
   ],
   "source": [
    "for worker in workers:\n",
    "    exp = worker[3]\n",
    "\n",
    "    if exp < 2:\n",
    "        position = 'junior'\n",
    "    elif exp >= 2 and exp <= 5:\n",
    "        position = 'middle'\n",
    "    else:\n",
    "        position = 'senior'\n",
    "\n",
    "    print(message.format(worker[0], worker[1], position))"
   ]
  },
  {
   "cell_type": "code",
   "execution_count": 27,
   "metadata": {},
   "outputs": [],
   "source": [
    "n = 0\n",
    "N = 10\n",
    "dn = 2\n",
    "\n",
    "lst = []\n",
    "list = []\n",
    "\n",
    "while n <= N:\n",
    "    list.append(n)\n",
    "    n += 1\n",
    "lst = list[::2]"
   ]
  },
  {
   "cell_type": "code",
   "execution_count": 28,
   "metadata": {},
   "outputs": [
    {
     "name": "stdout",
     "output_type": "stream",
     "text": [
      "[0, 2, 4, 6, 8, 10]\n"
     ]
    }
   ],
   "source": [
    "print(lst)"
   ]
  },
  {
   "cell_type": "code",
   "execution_count": 30,
   "metadata": {},
   "outputs": [],
   "source": [
    "salaries_dict = {'name': 'Masha', 'surname': 'Volkova', 'age': 25, 'salary': 60000, 'position': 'junior'}"
   ]
  },
  {
   "cell_type": "code",
   "execution_count": 31,
   "metadata": {},
   "outputs": [
    {
     "name": "stdout",
     "output_type": "stream",
     "text": [
      "{'name': 'Masha', 'surname': 'Volkova', 'age': 25, 'salary': 60000, 'position': 'junior'}\n"
     ]
    }
   ],
   "source": [
    "print(salaries_dict)"
   ]
  },
  {
   "cell_type": "code",
   "execution_count": 32,
   "metadata": {},
   "outputs": [],
   "source": [
    "users_dict = {\n",
    "    'mvolkova': {'name': 'Masha', 'surname': 'Volkova', 'age': 25, 'salary': 60000, 'position': 'junior'},\n",
    "    'pvoronov': {'name': 'Peter', 'surname': 'Voronov', 'age': 27, 'salary': 100000, 'position': 'junior'},\n",
    "    'pparker': {'name': 'Peter', 'surname': 'Parker', 'age': 35, 'salary': 150000, 'position': 'middle'},\n",
    "    'akarpov': {'name': 'Anatoly', 'surname': 'Karpov', 'age': 30, 'salary': 250000, 'position': 'senior'},}\n"
   ]
  },
  {
   "cell_type": "code",
   "execution_count": 34,
   "metadata": {},
   "outputs": [
    {
     "name": "stdout",
     "output_type": "stream",
     "text": [
      "senior\n"
     ]
    }
   ],
   "source": [
    "print(users_dict['akarpov']['position'])"
   ]
  },
  {
   "cell_type": "code",
   "execution_count": null,
   "metadata": {},
   "outputs": [],
   "source": []
  }
 ],
 "metadata": {
  "kernelspec": {
   "display_name": "Python 3",
   "language": "python",
   "name": "python3"
  },
  "language_info": {
   "codemirror_mode": {
    "name": "ipython",
    "version": 3
   },
   "file_extension": ".py",
   "mimetype": "text/x-python",
   "name": "python",
   "nbconvert_exporter": "python",
   "pygments_lexer": "ipython3",
   "version": "3.7.3"
  }
 },
 "nbformat": 4,
 "nbformat_minor": 4
}
